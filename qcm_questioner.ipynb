{
  "nbformat": 4,
  "nbformat_minor": 0,
  "metadata": {
    "colab": {
      "name": "qcm_questioner",
      "provenance": [],
      "collapsed_sections": []
    },
    "kernelspec": {
      "name": "python3",
      "display_name": "Python 3"
    }
  },
  "cells": [
    {
      "cell_type": "code",
      "metadata": {
        "id": "Rk1okMBiMKvb",
        "colab_type": "code",
        "cellView": "form",
        "outputId": "80b9bae6-aca4-4653-9892-35564a4d31a8",
        "colab": {
          "base_uri": "https://localhost:8080/",
          "height": 300
        }
      },
      "source": [
        "#@title Veuillez selectionner une serie de QCM  { run: \"auto\" }\n",
        "import pandas as pd\n",
        "from ast import literal_eval\n",
        "import random\n",
        "from IPython.display import Javascript\n",
        "display(Javascript('''google.colab.output\n",
        "                  .setIframeHeight(0, true, {maxHeight: 300})''')\n",
        "                    )\n",
        "\n",
        "try:\n",
        "  df_qcm = pd.read_csv('https://raw.githubusercontent.com/anisayari/qcm_questioner/master/data_csv/all_qcm.csv')\n",
        "  df_qcm.head()\n",
        "  QCM_choice = 'Chapitre2' #@param ['Chapitre1', 'Chapitre2' ,'Chapitre3', 'Chapitre4', 'Chapitre5', 'Institutions', 'Economie']\n",
        "  print('Vous avez choisi le QCM',QCM_choice)\n",
        "  QCM_choice = QCM_choice.lower()\n",
        "  df = df_qcm[df_qcm['file']==QCM_choice]\n",
        "  if df.shape[0] == 0:\n",
        "    print('Erreur votre choix ne correspond à aucun chapitre')\n",
        "  else:\n",
        "    print(f\"Il s'agit d'un QCM avec {df.shape[0]} questions, bonne chance !\")\n",
        "\n",
        "  #@title Stuff are goind under ground here\n",
        "  #df = df[:2]\n",
        "  #from IPython.display import display, clear_output\n",
        "  correct=0\n",
        "  echec = 0\n",
        "  dict_answer = {}\n",
        "  for index in df.index.tolist():\n",
        "    dict_answer[index] = False\n",
        "\n",
        "  number_of_true = df.index.tolist()\n",
        "  iteration = 0\n",
        "  \n",
        "  while number_of_true != len(df.index.tolist()):\n",
        "    key_dict =[index for index in dict_answer.keys() if dict_answer[index] == False]\n",
        "    random.shuffle(key_dict)\n",
        "    for id in key_dict:\n",
        "      print('------------\\n\\x1b[1;33mNOUVELLE QUESTION\\x1b[0m\\n------------')\n",
        "      row = df.loc[id]\n",
        "      for col in ['Question','A','B','C','D','E']:\n",
        "        if col == \"Question\":\n",
        "            print('\\x1b[1m'+row[col]+'\\x1b[0m\\n')\n",
        "        else:\n",
        "          print(row[col])\n",
        "      answer_user = input('\\n Answer : ')\n",
        "      answer_user = [x for x in answer_user if x.isupper() or x.islower()]\n",
        "      answer_user = [x.lower() for x in answer_user]\n",
        "      true_answer = [x.lower() for x in literal_eval(row['Reponse_preprocess']) if x.isupper()]\n",
        "      if (set(answer_user) == set(true_answer)):\n",
        "        print('\\x1b[1;32mBonne Reponse!\\x1b[0m')\n",
        "        dict_answer[id] = True\n",
        "        correct = correct + 1\n",
        "      else:\n",
        "        print('\\x1b[1;31mMauvaise Reponse\\x1b[0m')\n",
        "        echec = echec + 1\n",
        "      print('\\x1b[1m'+row['Reponse']+'\\x1b[0m\\n') #CHECK FORMAT DE REPONSE SOUHAITE\n",
        "    number_of_true = sum(value == True for value in dict_answer.values())\n",
        "    iteration = iteration + 1\n",
        "    print('------------------------------------------------')\n",
        "    print(f'Vos Scores à cette itération \\n \\x1b[1;32mCorrect : {correct} ({round(correct/len(df)*100,1)}%)\\x1b[0m \\n \\x1b[1;31mErreur : {echec} ({round(echec/len(df)*100,1)}%)\\x1b[0m \\n')\n",
        "    if number_of_true != len(df.index.tolist()):\n",
        "      print(f\"\\x1b[1;33m Fin de l'itération {iteration}, on repart pour les mauvaises réponses. (Go!)\\x1b[0m\")\n",
        "    print('------------------------------------------------')\n",
        "  print('\\x1b[1;33m Félicitations vous avez fini le QCM ! :-)\\x1b[0m')\n",
        "\n",
        "  #run_test(df)\n",
        "  \n",
        "except KeyboardInterrupt:\n",
        "  print(\"\\x1b[1;35m INTERRUPTION DE L'UTILISATEUR:-)\\x1b[0m\")\n",
        "  print(\"Vous avez décidé d'interromptre le programme.\")\n",
        "  print(\"Pour relancer un test, veuillez selectionné une série de QCM\")\n",
        "\n",
        "  print(f\"Vos Scores a l'arrêt\\n \\x1b[1;32mCorrect : {correct}\\x1b[0m \\n \\x1b[1;31mErreur : {echec}\\x1b[0m \\n\")"
      ],
      "execution_count": 56,
      "outputs": [
        {
          "output_type": "display_data",
          "data": {
            "application/javascript": [
              "google.colab.output\n",
              "                  .setIframeHeight(0, true, {maxHeight: 300})"
            ],
            "text/plain": [
              "<IPython.core.display.Javascript object>"
            ]
          },
          "metadata": {
            "tags": []
          }
        },
        {
          "output_type": "stream",
          "text": [
            "Vous avez choisi le QCM Chapitre2\n",
            "Il s'agit d'un QCM avec 21 questions, bonne chance !\n",
            "------------\n",
            "\u001b[1;33mNOUVELLE QUESTION\u001b[0m\n",
            "------------\n",
            "\u001b[1mDans sa mission de santé publique, quelle mesure principale l’Union européenne a- t-elle adoptée ?\u001b[0m\n",
            "\n",
            "A. L’éducation à la santé\n",
            "B. La prévention\n",
            "C. La promotion de la santé\n",
            "D. L’alerte précoce en situation d’urgence\n",
            "E. Les propositions A, B, C et D sont fausses\n",
            "\n",
            " Answer : a\n",
            "\u001b[1;31mMauvaise Reponse\u001b[0m\n",
            "\u001b[1mRéponse : C\u001b[0m\n",
            "\n",
            "------------------------------------------------\n",
            "Vos Scores à cette itération \n",
            " \u001b[1;32mCorrect : 0 (0.0%)\u001b[0m \n",
            " \u001b[1;31mErreur : 1 (100.0%)\u001b[0m \n",
            "\n",
            "\u001b[1;35m Fin de l'itération 1, on repart pour les mauvaises réponses. (Go!)\u001b[0m\n",
            "------------------------------------------------\n",
            "------------\n",
            "\u001b[1;33mNOUVELLE QUESTION\u001b[0m\n",
            "------------\n",
            "\u001b[1mDans sa mission de santé publique, quelle mesure principale l’Union européenne a- t-elle adoptée ?\u001b[0m\n",
            "\n",
            "A. L’éducation à la santé\n",
            "B. La prévention\n",
            "C. La promotion de la santé\n",
            "D. L’alerte précoce en situation d’urgence\n",
            "E. Les propositions A, B, C et D sont fausses\n",
            "\n",
            " Answer : C\n",
            "\u001b[1;32mBonne Reponse!\u001b[0m\n",
            "\u001b[1mRéponse : C\u001b[0m\n",
            "\n",
            "------------------------------------------------\n",
            "Vos Scores à cette itération \n",
            " \u001b[1;32mCorrect : 1 (100.0%)\u001b[0m \n",
            " \u001b[1;31mErreur : 1 (100.0%)\u001b[0m \n",
            "\n",
            "\u001b[1;35m Fin de l'itération 2, on repart pour les mauvaises réponses. (Go!)\u001b[0m\n",
            "------------------------------------------------\n",
            "\u001b[1;35m Félicitations vous avez fini le QCM ! :-)\u001b[0m\n"
          ],
          "name": "stdout"
        }
      ]
    }
  ]
}